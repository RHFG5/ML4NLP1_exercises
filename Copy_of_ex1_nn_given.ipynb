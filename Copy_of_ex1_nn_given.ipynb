{
  "cells": [
    {
      "cell_type": "markdown",
      "source": [
        "# ML4NLP1\n",
        "## Starting Point for Exercise 1, part II\n",
        "\n",
        "This notebook is supposed to serve as a starting point and/or inspiration when starting exercise 1, part II.\n",
        "\n",
        "One of the goals of this exercise is o make you acquainted with **skorch**. You will probably need to consult the [documentation](https://skorch.readthedocs.io/en/stable/)."
      ],
      "metadata": {
        "id": "Q-2GcUhgB0S7"
      }
    },
    {
      "cell_type": "markdown",
      "metadata": {
        "id": "V920LTuiq40d"
      },
      "source": [
        "# Installing skorch and loading libraries"
      ]
    },
    {
      "cell_type": "code",
      "execution_count": 1,
      "metadata": {
        "id": "utYcb97jq40t"
      },
      "outputs": [],
      "source": [
        "import subprocess\n",
        "\n",
        "# Installation on Google Colab\n",
        "try:\n",
        "    import google.colab\n",
        "    subprocess.run(['python', '-m', 'pip', 'install', 'skorch'])\n",
        "except ImportError:\n",
        "    pass"
      ]
    },
    {
      "cell_type": "code",
      "execution_count": 2,
      "metadata": {
        "id": "WZ3Y_KHvq40x"
      },
      "outputs": [],
      "source": [
        "import torch\n",
        "from torch import nn\n",
        "import torch.nn.functional as F\n",
        "from skorch import NeuralNetClassifier"
      ]
    },
    {
      "cell_type": "code",
      "execution_count": 3,
      "metadata": {
        "id": "D9d6X0ZZq40z"
      },
      "outputs": [],
      "source": [
        "torch.manual_seed(0)\n",
        "torch.cuda.manual_seed(0)"
      ]
    },
    {
      "cell_type": "code",
      "execution_count": 4,
      "metadata": {
        "id": "H55IvQdyq403"
      },
      "outputs": [],
      "source": [
        "import pandas as pd\n",
        "import numpy as np\n",
        "import csv\n",
        "import re\n",
        "import string\n",
        "from collections import defaultdict"
      ]
    },
    {
      "cell_type": "markdown",
      "metadata": {
        "id": "dAnY8yaDq400"
      },
      "source": [
        "## Training a classifier and making predictions"
      ]
    },
    {
      "cell_type": "code",
      "source": [
        "# download dataset\n",
        "!gdown 1QP6YuwdKFNUPpvhOaAcvv2Pcp4JMbIRs # x_train\n",
        "!gdown 1QVo7PZAdiZKzifK8kwhEr_umosiDCUx6 # x_test\n",
        "!gdown 1QbBeKcmG2ZyAEFB3AKGTgSWQ1YEMn2jl # y_train\n",
        "!gdown 1QaZj6bI7_78ymnN8IpSk4gVvg-C9fA6X # y_test"
      ],
      "metadata": {
        "id": "zWjt9xGoswAC",
        "colab": {
          "base_uri": "https://localhost:8080/"
        },
        "outputId": "5ee5f64a-fe2f-47d3-9822-bad85a8fdf63"
      },
      "execution_count": 5,
      "outputs": [
        {
          "output_type": "stream",
          "name": "stdout",
          "text": [
            "Downloading...\n",
            "From: https://drive.google.com/uc?id=1QP6YuwdKFNUPpvhOaAcvv2Pcp4JMbIRs\n",
            "To: /content/x_train.txt\n",
            "100% 64.1M/64.1M [00:00<00:00, 70.3MB/s]\n",
            "Downloading...\n",
            "From: https://drive.google.com/uc?id=1QVo7PZAdiZKzifK8kwhEr_umosiDCUx6\n",
            "To: /content/x_test.txt\n",
            "100% 65.2M/65.2M [00:00<00:00, 119MB/s]\n",
            "Downloading...\n",
            "From: https://drive.google.com/uc?id=1QbBeKcmG2ZyAEFB3AKGTgSWQ1YEMn2jl\n",
            "To: /content/y_train.txt\n",
            "100% 480k/480k [00:00<00:00, 66.7MB/s]\n",
            "Downloading...\n",
            "From: https://drive.google.com/uc?id=1QaZj6bI7_78ymnN8IpSk4gVvg-C9fA6X\n",
            "To: /content/y_test.txt\n",
            "100% 480k/480k [00:00<00:00, 60.2MB/s]\n"
          ]
        }
      ]
    },
    {
      "cell_type": "code",
      "source": [
        "with open(f'x_train.txt') as f:\n",
        "    x_train = f.read().splitlines()\n",
        "with open(f'y_train.txt') as f:\n",
        "    y_train = f.read().splitlines()\n",
        "with open(f'x_test.txt') as f:\n",
        "    x_test = f.read().splitlines()\n",
        "with open(f'y_test.txt') as f:\n",
        "    y_test = f.read().splitlines()"
      ],
      "metadata": {
        "id": "-M6DgXdjtJyH"
      },
      "execution_count": 6,
      "outputs": []
    },
    {
      "cell_type": "code",
      "source": [
        "import pandas as pd\n",
        "# combine x_train and y_train into one dataframe\n",
        "train_df = pd.DataFrame({'text': x_train, 'label': y_train})\n",
        "\n",
        "#combine x_test and y_test into one dataframe\n",
        "test_df = pd.DataFrame({'text': x_test, 'label': y_test})\n",
        "\n",
        "#combine both train_df and test_df into one dataframe for further data split according to 80/20 rule\n",
        "total_df = pd.concat([train_df, test_df])\n",
        "\n",
        "print(train_df.shape)\n",
        "print(test_df.shape)\n",
        "print(total_df.shape)"
      ],
      "metadata": {
        "id": "oRqfDA9FuoX1",
        "colab": {
          "base_uri": "https://localhost:8080/"
        },
        "outputId": "7d495d41-fb39-420c-ef42-ae66091cc830"
      },
      "execution_count": 7,
      "outputs": [
        {
          "output_type": "stream",
          "name": "stdout",
          "text": [
            "(117500, 2)\n",
            "(117500, 2)\n",
            "(235000, 2)\n"
          ]
        }
      ]
    },
    {
      "cell_type": "code",
      "source": [
        "# T: Please use again the train/test data that includes English, German, Dutch, Danish, Swedish and Norwegian, plus 20 additional languages of your choice (the labels can be found in the file labels.csv)\n",
        "# and adjust the train/test split if needed"
      ],
      "metadata": {
        "id": "r2cICoZ8xNMM"
      },
      "execution_count": null,
      "outputs": []
    },
    {
      "cell_type": "code",
      "source": [
        "# get list of all labels\n",
        "labels = train_df['label'].unique().tolist()\n",
        "print(labels)"
      ],
      "metadata": {
        "id": "gqWYQD9WeSfG",
        "outputId": "5812c69a-0b4d-4690-c4af-cc34aa845e08",
        "colab": {
          "base_uri": "https://localhost:8080/"
        }
      },
      "execution_count": 8,
      "outputs": [
        {
          "output_type": "stream",
          "name": "stdout",
          "text": [
            "['est', 'swe', 'mai', 'oci', 'tha', 'orm', 'lim', 'guj', 'pnb', 'zea', 'krc', 'hat', 'pcd', 'tam', 'vie', 'pan', 'szl', 'ckb', 'fur', 'wuu', 'arz', 'ton', 'eus', 'map-bms', 'glk', 'nld', 'bod', 'jpn', 'arg', 'srd', 'ext', 'sin', 'kur', 'che', 'tuk', 'pag', 'tur', 'als', 'koi', 'lat', 'urd', 'tat', 'bxr', 'ind', 'kir', 'zh-yue', 'dan', 'por', 'fra', 'ori', 'nob', 'jbo', 'kok', 'amh', 'khm', 'hbs', 'slv', 'bos', 'tet', 'zho', 'kor', 'sah', 'rup', 'ast', 'wol', 'bul', 'gla', 'msa', 'crh', 'lug', 'sun', 'bre', 'mon', 'nep', 'ibo', 'cdo', 'asm', 'grn', 'hin', 'mar', 'lin', 'ile', 'lmo', 'mya', 'ilo', 'csb', 'tyv', 'gle', 'nan', 'jam', 'scn', 'be-tarask', 'diq', 'cor', 'fao', 'mlg', 'yid', 'sme', 'spa', 'kbd', 'udm', 'isl', 'ksh', 'san', 'aze', 'nap', 'dsb', 'pam', 'cym', 'srp', 'stq', 'tel', 'swa', 'vls', 'mzn', 'bel', 'lad', 'ina', 'ava', 'lao', 'min', 'ita', 'nds-nl', 'oss', 'kab', 'pus', 'fin', 'snd', 'kaa', 'fas', 'cbk', 'cat', 'nci', 'mhr', 'roa-tara', 'frp', 'ron', 'new', 'bar', 'ltg', 'vro', 'lav', 'ces', 'yor', 'nso', 'bak', 'rus', 'ace', 'mdf', 'vep', 'sgs', 'uig', 'lit', 'sqi', 'som', 'slk', 'sco', 'ukr', 'mri', 'hrv', 'vol', 'eng', 'glv', 'ben', 'ido', 'jav', 'tcy', 'mrj', 'hif', 'sna', 'war', 'mlt', 'egl', 'tsn', 'lez', 'hak', 'kom', 'azb', 'que', 'lzh', 'ara', 'fry', 'dty', 'mal', 'heb', 'gag', 'chv', 'afr', 'pap', 'kin', 'ang', 'kaz', 'bjn', 'hye', 'olo', 'xmf', 'uzb', 'bcl', 'pdc', 'hsb', 'srn', 'kat', 'tgl', 'nno', 'glg', 'roh', 'kan', 'chr', 'lrc', 'div', 'myv', 'cos', 'hun', 'nrm', 'pfl', 'wln', 'bho', 'epo', 'deu', 'nav', 'mwl', 'pol', 'rue', 'vec', 'nds', 'aym', 'tgk', 'ceb', 'xho', 'bpy', 'ell', 'lij', 'hau', 'mkd', 'ltz']\n"
          ]
        }
      ]
    },
    {
      "cell_type": "code",
      "source": [
        "# Ranodomly choose 20 additional languages\n",
        "# As a dataset composed of 27 languages would cause the session to crash\n",
        "# due to ram limit. So I only use 7 languages as my dataset.\n",
        "import random\n",
        "random.seed(20)\n",
        "\n",
        "languages = ['eng', 'deu', 'nld', 'dan', 'swe', 'nob', 'jpn']\n",
        "#for i in range(20):\n",
        "  #languages.append(random.choice(labels))\n",
        "print(languages)\n",
        "\n",
        "subset_df = total_df[total_df['label'].isin(languages)]\n",
        "subset_df"
      ],
      "metadata": {
        "id": "K9pAnCr5eTZL",
        "outputId": "beedcaca-2c31-4d44-c828-34be3170467b",
        "colab": {
          "base_uri": "https://localhost:8080/",
          "height": 470
        }
      },
      "execution_count": 9,
      "outputs": [
        {
          "output_type": "stream",
          "name": "stdout",
          "text": [
            "['eng', 'deu', 'nld', 'dan', 'swe', 'nob', 'jpn']\n"
          ]
        },
        {
          "output_type": "execute_result",
          "data": {
            "text/plain": [
              "                                                     text label\n",
              "1       Sebes, Joseph; Pereira Thomas (1961) (på eng)....   swe\n",
              "26      De spons behoort tot het geslacht Haliclona en...   nld\n",
              "29      エノが行きがかりでバスに乗ってしまい、気分が悪くなった際に助けるが、今すぐバスを降りたいと運...   jpn\n",
              "46      シャーリー・フィールドは、サン・ベルナルド・アベニュー沿い市民センターとR&Tマーティン高校...   jpn\n",
              "52      Indtil 1545 havde flådecheferne kunnet hyre et...   dan\n",
              "...                                                   ...   ...\n",
              "117156  Het gewone volk leeft in vrede en nog altijd w...   nld\n",
              "117196  På midten av 1980-tallet spilte han sammen med...   nob\n",
              "117202  katholische Ortskirche St. Nikolaus (1955), be...   deu\n",
              "117308  Mozilla Add-ons は、Mozilla Firefox、Mozilla Thun...   jpn\n",
              "117494  Estiske militære tropper skal formindskes til ...   dan\n",
              "\n",
              "[7000 rows x 2 columns]"
            ],
            "text/html": [
              "\n",
              "  <div id=\"df-53aec348-60c1-44ac-9d81-a2f4977c6e4e\" class=\"colab-df-container\">\n",
              "    <div>\n",
              "<style scoped>\n",
              "    .dataframe tbody tr th:only-of-type {\n",
              "        vertical-align: middle;\n",
              "    }\n",
              "\n",
              "    .dataframe tbody tr th {\n",
              "        vertical-align: top;\n",
              "    }\n",
              "\n",
              "    .dataframe thead th {\n",
              "        text-align: right;\n",
              "    }\n",
              "</style>\n",
              "<table border=\"1\" class=\"dataframe\">\n",
              "  <thead>\n",
              "    <tr style=\"text-align: right;\">\n",
              "      <th></th>\n",
              "      <th>text</th>\n",
              "      <th>label</th>\n",
              "    </tr>\n",
              "  </thead>\n",
              "  <tbody>\n",
              "    <tr>\n",
              "      <th>1</th>\n",
              "      <td>Sebes, Joseph; Pereira Thomas (1961) (på eng)....</td>\n",
              "      <td>swe</td>\n",
              "    </tr>\n",
              "    <tr>\n",
              "      <th>26</th>\n",
              "      <td>De spons behoort tot het geslacht Haliclona en...</td>\n",
              "      <td>nld</td>\n",
              "    </tr>\n",
              "    <tr>\n",
              "      <th>29</th>\n",
              "      <td>エノが行きがかりでバスに乗ってしまい、気分が悪くなった際に助けるが、今すぐバスを降りたいと運...</td>\n",
              "      <td>jpn</td>\n",
              "    </tr>\n",
              "    <tr>\n",
              "      <th>46</th>\n",
              "      <td>シャーリー・フィールドは、サン・ベルナルド・アベニュー沿い市民センターとR&amp;Tマーティン高校...</td>\n",
              "      <td>jpn</td>\n",
              "    </tr>\n",
              "    <tr>\n",
              "      <th>52</th>\n",
              "      <td>Indtil 1545 havde flådecheferne kunnet hyre et...</td>\n",
              "      <td>dan</td>\n",
              "    </tr>\n",
              "    <tr>\n",
              "      <th>...</th>\n",
              "      <td>...</td>\n",
              "      <td>...</td>\n",
              "    </tr>\n",
              "    <tr>\n",
              "      <th>117156</th>\n",
              "      <td>Het gewone volk leeft in vrede en nog altijd w...</td>\n",
              "      <td>nld</td>\n",
              "    </tr>\n",
              "    <tr>\n",
              "      <th>117196</th>\n",
              "      <td>På midten av 1980-tallet spilte han sammen med...</td>\n",
              "      <td>nob</td>\n",
              "    </tr>\n",
              "    <tr>\n",
              "      <th>117202</th>\n",
              "      <td>katholische Ortskirche St. Nikolaus (1955), be...</td>\n",
              "      <td>deu</td>\n",
              "    </tr>\n",
              "    <tr>\n",
              "      <th>117308</th>\n",
              "      <td>Mozilla Add-ons は、Mozilla Firefox、Mozilla Thun...</td>\n",
              "      <td>jpn</td>\n",
              "    </tr>\n",
              "    <tr>\n",
              "      <th>117494</th>\n",
              "      <td>Estiske militære tropper skal formindskes til ...</td>\n",
              "      <td>dan</td>\n",
              "    </tr>\n",
              "  </tbody>\n",
              "</table>\n",
              "<p>7000 rows × 2 columns</p>\n",
              "</div>\n",
              "    <div class=\"colab-df-buttons\">\n",
              "\n",
              "  <div class=\"colab-df-container\">\n",
              "    <button class=\"colab-df-convert\" onclick=\"convertToInteractive('df-53aec348-60c1-44ac-9d81-a2f4977c6e4e')\"\n",
              "            title=\"Convert this dataframe to an interactive table.\"\n",
              "            style=\"display:none;\">\n",
              "\n",
              "  <svg xmlns=\"http://www.w3.org/2000/svg\" height=\"24px\" viewBox=\"0 -960 960 960\">\n",
              "    <path d=\"M120-120v-720h720v720H120Zm60-500h600v-160H180v160Zm220 220h160v-160H400v160Zm0 220h160v-160H400v160ZM180-400h160v-160H180v160Zm440 0h160v-160H620v160ZM180-180h160v-160H180v160Zm440 0h160v-160H620v160Z\"/>\n",
              "  </svg>\n",
              "    </button>\n",
              "\n",
              "  <style>\n",
              "    .colab-df-container {\n",
              "      display:flex;\n",
              "      gap: 12px;\n",
              "    }\n",
              "\n",
              "    .colab-df-convert {\n",
              "      background-color: #E8F0FE;\n",
              "      border: none;\n",
              "      border-radius: 50%;\n",
              "      cursor: pointer;\n",
              "      display: none;\n",
              "      fill: #1967D2;\n",
              "      height: 32px;\n",
              "      padding: 0 0 0 0;\n",
              "      width: 32px;\n",
              "    }\n",
              "\n",
              "    .colab-df-convert:hover {\n",
              "      background-color: #E2EBFA;\n",
              "      box-shadow: 0px 1px 2px rgba(60, 64, 67, 0.3), 0px 1px 3px 1px rgba(60, 64, 67, 0.15);\n",
              "      fill: #174EA6;\n",
              "    }\n",
              "\n",
              "    .colab-df-buttons div {\n",
              "      margin-bottom: 4px;\n",
              "    }\n",
              "\n",
              "    [theme=dark] .colab-df-convert {\n",
              "      background-color: #3B4455;\n",
              "      fill: #D2E3FC;\n",
              "    }\n",
              "\n",
              "    [theme=dark] .colab-df-convert:hover {\n",
              "      background-color: #434B5C;\n",
              "      box-shadow: 0px 1px 3px 1px rgba(0, 0, 0, 0.15);\n",
              "      filter: drop-shadow(0px 1px 2px rgba(0, 0, 0, 0.3));\n",
              "      fill: #FFFFFF;\n",
              "    }\n",
              "  </style>\n",
              "\n",
              "    <script>\n",
              "      const buttonEl =\n",
              "        document.querySelector('#df-53aec348-60c1-44ac-9d81-a2f4977c6e4e button.colab-df-convert');\n",
              "      buttonEl.style.display =\n",
              "        google.colab.kernel.accessAllowed ? 'block' : 'none';\n",
              "\n",
              "      async function convertToInteractive(key) {\n",
              "        const element = document.querySelector('#df-53aec348-60c1-44ac-9d81-a2f4977c6e4e');\n",
              "        const dataTable =\n",
              "          await google.colab.kernel.invokeFunction('convertToInteractive',\n",
              "                                                    [key], {});\n",
              "        if (!dataTable) return;\n",
              "\n",
              "        const docLinkHtml = 'Like what you see? Visit the ' +\n",
              "          '<a target=\"_blank\" href=https://colab.research.google.com/notebooks/data_table.ipynb>data table notebook</a>'\n",
              "          + ' to learn more about interactive tables.';\n",
              "        element.innerHTML = '';\n",
              "        dataTable['output_type'] = 'display_data';\n",
              "        await google.colab.output.renderOutput(dataTable, element);\n",
              "        const docLink = document.createElement('div');\n",
              "        docLink.innerHTML = docLinkHtml;\n",
              "        element.appendChild(docLink);\n",
              "      }\n",
              "    </script>\n",
              "  </div>\n",
              "\n",
              "\n",
              "<div id=\"df-b750ece5-802b-4c19-9c49-42b599433194\">\n",
              "  <button class=\"colab-df-quickchart\" onclick=\"quickchart('df-b750ece5-802b-4c19-9c49-42b599433194')\"\n",
              "            title=\"Suggest charts.\"\n",
              "            style=\"display:none;\">\n",
              "\n",
              "<svg xmlns=\"http://www.w3.org/2000/svg\" height=\"24px\"viewBox=\"0 0 24 24\"\n",
              "     width=\"24px\">\n",
              "    <g>\n",
              "        <path d=\"M19 3H5c-1.1 0-2 .9-2 2v14c0 1.1.9 2 2 2h14c1.1 0 2-.9 2-2V5c0-1.1-.9-2-2-2zM9 17H7v-7h2v7zm4 0h-2V7h2v10zm4 0h-2v-4h2v4z\"/>\n",
              "    </g>\n",
              "</svg>\n",
              "  </button>\n",
              "\n",
              "<style>\n",
              "  .colab-df-quickchart {\n",
              "      --bg-color: #E8F0FE;\n",
              "      --fill-color: #1967D2;\n",
              "      --hover-bg-color: #E2EBFA;\n",
              "      --hover-fill-color: #174EA6;\n",
              "      --disabled-fill-color: #AAA;\n",
              "      --disabled-bg-color: #DDD;\n",
              "  }\n",
              "\n",
              "  [theme=dark] .colab-df-quickchart {\n",
              "      --bg-color: #3B4455;\n",
              "      --fill-color: #D2E3FC;\n",
              "      --hover-bg-color: #434B5C;\n",
              "      --hover-fill-color: #FFFFFF;\n",
              "      --disabled-bg-color: #3B4455;\n",
              "      --disabled-fill-color: #666;\n",
              "  }\n",
              "\n",
              "  .colab-df-quickchart {\n",
              "    background-color: var(--bg-color);\n",
              "    border: none;\n",
              "    border-radius: 50%;\n",
              "    cursor: pointer;\n",
              "    display: none;\n",
              "    fill: var(--fill-color);\n",
              "    height: 32px;\n",
              "    padding: 0;\n",
              "    width: 32px;\n",
              "  }\n",
              "\n",
              "  .colab-df-quickchart:hover {\n",
              "    background-color: var(--hover-bg-color);\n",
              "    box-shadow: 0 1px 2px rgba(60, 64, 67, 0.3), 0 1px 3px 1px rgba(60, 64, 67, 0.15);\n",
              "    fill: var(--button-hover-fill-color);\n",
              "  }\n",
              "\n",
              "  .colab-df-quickchart-complete:disabled,\n",
              "  .colab-df-quickchart-complete:disabled:hover {\n",
              "    background-color: var(--disabled-bg-color);\n",
              "    fill: var(--disabled-fill-color);\n",
              "    box-shadow: none;\n",
              "  }\n",
              "\n",
              "  .colab-df-spinner {\n",
              "    border: 2px solid var(--fill-color);\n",
              "    border-color: transparent;\n",
              "    border-bottom-color: var(--fill-color);\n",
              "    animation:\n",
              "      spin 1s steps(1) infinite;\n",
              "  }\n",
              "\n",
              "  @keyframes spin {\n",
              "    0% {\n",
              "      border-color: transparent;\n",
              "      border-bottom-color: var(--fill-color);\n",
              "      border-left-color: var(--fill-color);\n",
              "    }\n",
              "    20% {\n",
              "      border-color: transparent;\n",
              "      border-left-color: var(--fill-color);\n",
              "      border-top-color: var(--fill-color);\n",
              "    }\n",
              "    30% {\n",
              "      border-color: transparent;\n",
              "      border-left-color: var(--fill-color);\n",
              "      border-top-color: var(--fill-color);\n",
              "      border-right-color: var(--fill-color);\n",
              "    }\n",
              "    40% {\n",
              "      border-color: transparent;\n",
              "      border-right-color: var(--fill-color);\n",
              "      border-top-color: var(--fill-color);\n",
              "    }\n",
              "    60% {\n",
              "      border-color: transparent;\n",
              "      border-right-color: var(--fill-color);\n",
              "    }\n",
              "    80% {\n",
              "      border-color: transparent;\n",
              "      border-right-color: var(--fill-color);\n",
              "      border-bottom-color: var(--fill-color);\n",
              "    }\n",
              "    90% {\n",
              "      border-color: transparent;\n",
              "      border-bottom-color: var(--fill-color);\n",
              "    }\n",
              "  }\n",
              "</style>\n",
              "\n",
              "  <script>\n",
              "    async function quickchart(key) {\n",
              "      const quickchartButtonEl =\n",
              "        document.querySelector('#' + key + ' button');\n",
              "      quickchartButtonEl.disabled = true;  // To prevent multiple clicks.\n",
              "      quickchartButtonEl.classList.add('colab-df-spinner');\n",
              "      try {\n",
              "        const charts = await google.colab.kernel.invokeFunction(\n",
              "            'suggestCharts', [key], {});\n",
              "      } catch (error) {\n",
              "        console.error('Error during call to suggestCharts:', error);\n",
              "      }\n",
              "      quickchartButtonEl.classList.remove('colab-df-spinner');\n",
              "      quickchartButtonEl.classList.add('colab-df-quickchart-complete');\n",
              "    }\n",
              "    (() => {\n",
              "      let quickchartButtonEl =\n",
              "        document.querySelector('#df-b750ece5-802b-4c19-9c49-42b599433194 button');\n",
              "      quickchartButtonEl.style.display =\n",
              "        google.colab.kernel.accessAllowed ? 'block' : 'none';\n",
              "    })();\n",
              "  </script>\n",
              "</div>\n",
              "    </div>\n",
              "  </div>\n"
            ]
          },
          "metadata": {},
          "execution_count": 9
        }
      ]
    },
    {
      "cell_type": "code",
      "source": [
        "text_df = subset_df['text']\n",
        "label_df = subset_df['label']\n",
        "text_df.shape, label_df.shape"
      ],
      "metadata": {
        "id": "_HPbYC1OQNaR",
        "colab": {
          "base_uri": "https://localhost:8080/"
        },
        "outputId": "16cfe5d1-e749-4fbd-af27-225138a263ef"
      },
      "execution_count": 10,
      "outputs": [
        {
          "output_type": "execute_result",
          "data": {
            "text/plain": [
              "((7000,), (7000,))"
            ]
          },
          "metadata": {},
          "execution_count": 10
        }
      ]
    },
    {
      "cell_type": "code",
      "source": [
        "# Split the data according to 80/20 rule\n",
        "from sklearn.model_selection import train_test_split\n",
        "\n",
        "X_train, X_test, y_train, y_test = train_test_split(text_df, label_df, test_size=0.20, random_state=42)"
      ],
      "metadata": {
        "id": "mDHVm7LWfjDI"
      },
      "execution_count": 28,
      "outputs": []
    },
    {
      "cell_type": "code",
      "source": [
        "print('Training set shape: ', X_train.shape)\n",
        "print('Training labels shape: ', y_train.shape)\n",
        "print('Test set shape: ', X_test.shape)\n",
        "print('Test labels shape: ', y_test.shape)"
      ],
      "metadata": {
        "colab": {
          "base_uri": "https://localhost:8080/"
        },
        "id": "MWKAVuhZ_qH0",
        "outputId": "d26b4827-733c-4b49-c3af-80c46b3a9a72"
      },
      "execution_count": 29,
      "outputs": [
        {
          "output_type": "stream",
          "name": "stdout",
          "text": [
            "Training set shape:  (5600,)\n",
            "Training labels shape:  (5600,)\n",
            "Test set shape:  (1400,)\n",
            "Test labels shape:  (1400,)\n"
          ]
        }
      ]
    },
    {
      "cell_type": "code",
      "source": [
        "from sklearn.metrics import accuracy_score\n",
        "from sklearn.model_selection import cross_val_score\n",
        "from sklearn.feature_extraction.text import CountVectorizer\n",
        "from sklearn.feature_extraction.text import TfidfTransformer\n",
        "from sklearn.preprocessing import LabelEncoder\n",
        "from sklearn.svm import LinearSVC"
      ],
      "metadata": {
        "id": "HqN3FxoG8Kko"
      },
      "execution_count": 30,
      "outputs": []
    },
    {
      "cell_type": "code",
      "source": [
        "# T: use your adjusted code to encode the labels here"
      ],
      "metadata": {
        "id": "4IDSLVLb9rlQ"
      },
      "execution_count": null,
      "outputs": []
    },
    {
      "cell_type": "code",
      "source": [
        "# Preprocessing\n",
        "label_encoder = LabelEncoder()\n",
        "le_fitted = label_encoder.fit(y_train)"
      ],
      "metadata": {
        "id": "UXelTDT7V4rK"
      },
      "execution_count": 31,
      "outputs": []
    },
    {
      "cell_type": "code",
      "source": [
        "le_fitted.classes_"
      ],
      "metadata": {
        "colab": {
          "base_uri": "https://localhost:8080/"
        },
        "id": "9hbdwiXdV6c_",
        "outputId": "ffebfd0a-5df4-439e-aca0-3a0943fe89ad"
      },
      "execution_count": 32,
      "outputs": [
        {
          "output_type": "execute_result",
          "data": {
            "text/plain": [
              "array(['dan', 'deu', 'eng', 'jpn', 'nld', 'nob', 'swe'], dtype=object)"
            ]
          },
          "metadata": {},
          "execution_count": 32
        }
      ]
    },
    {
      "cell_type": "code",
      "source": [
        "# T: In the following, you can find a small (almost) working example of a neural network. Unfortunately, again, the cat messed up some of the code. Please fix the code such that it is executable."
      ],
      "metadata": {
        "id": "212FI4CFFnrS"
      },
      "execution_count": 26,
      "outputs": []
    },
    {
      "cell_type": "code",
      "source": [
        "num_classes = len(le_fitted.classes_)\n",
        "num_classes"
      ],
      "metadata": {
        "colab": {
          "base_uri": "https://localhost:8080/"
        },
        "id": "mefab8GsV8Bg",
        "outputId": "d78bfd59-8689-41af-fac0-415178d6e843"
      },
      "execution_count": 33,
      "outputs": [
        {
          "output_type": "execute_result",
          "data": {
            "text/plain": [
              "7"
            ]
          },
          "metadata": {},
          "execution_count": 33
        }
      ]
    },
    {
      "cell_type": "code",
      "source": [
        "y_train = le_fitted.transform(y_train)\n",
        "y_test = le_fitted.transform(y_test)"
      ],
      "metadata": {
        "id": "1_mfcS0mV-Kt"
      },
      "execution_count": 34,
      "outputs": []
    },
    {
      "cell_type": "code",
      "source": [
        "y_train = y_train.astype(np.int64)\n",
        "y_train"
      ],
      "metadata": {
        "colab": {
          "base_uri": "https://localhost:8080/"
        },
        "id": "z0cF0XhdWhQ2",
        "outputId": "e675369b-911e-4c68-a3cf-01fafd85294b"
      },
      "execution_count": 35,
      "outputs": [
        {
          "output_type": "execute_result",
          "data": {
            "text/plain": [
              "array([0, 4, 3, ..., 1, 1, 6])"
            ]
          },
          "metadata": {},
          "execution_count": 35
        }
      ]
    },
    {
      "cell_type": "code",
      "source": [
        "class CountVectorizerWrapper:\n",
        "    def __init__(self, analyzer, ngram_range, max_features, binary):\n",
        "        print('args:', str([ngram_range, max_features]))\n",
        "        self.countvec = CountVectorizer(analyzer=analyzer, ngram_range=ngram_range,\n",
        "                                        max_features=max_features, binary=binary)\n",
        "\n",
        "    def fit(self, X, y=None):\n",
        "        self.countvec.fit(X)\n",
        "        return self\n",
        "\n",
        "    def transform(self, X, y=None):\n",
        "        return self.countvec.transform(X).astype(np.float32)"
      ],
      "metadata": {
        "id": "IXqHmpoaJjyb"
      },
      "execution_count": 36,
      "outputs": []
    },
    {
      "cell_type": "markdown",
      "metadata": {
        "id": "oMFoiitJq407"
      },
      "source": [
        "In the following, we define a vanilla neural network with two hidden layers. The output layer should have as many outputs as there are classes. In addition, it should have a nonlinearity function."
      ]
    },
    {
      "cell_type": "code",
      "source": [
        "class ClassifierModule(nn.Module):\n",
        "    def __init__(\n",
        "            self,\n",
        "            num_units=200,\n",
        "            nonlin=F.relu,\n",
        "    ):\n",
        "        super(ClassifierModule, self).__init__()\n",
        "        self.num_units = num_units\n",
        "        self.nonlin = nonlin\n",
        "\n",
        "        self.dense0 = nn.Linear(100, num_units)\n",
        "        self.nonlin = nonlin\n",
        "        self.dense1 = nn.Linear(num_units, 50)\n",
        "        self.output = nn.Linear(50, num_classes)\n",
        "\n",
        "    def forward(self, X, **kwargs):\n",
        "      X = self.nonlin(self.dense0(X))\n",
        "      X = F.relu(self.dense1(X))\n",
        "      X = self.output(X)\n",
        "      return X.squeeze(dim=1)"
      ],
      "metadata": {
        "id": "7Q5EDIGQUUBy"
      },
      "execution_count": 37,
      "outputs": []
    },
    {
      "cell_type": "code",
      "source": [
        "net = NeuralNetClassifier(\n",
        "    ClassifierModule,\n",
        "    max_epochs=10,\n",
        "    criterion=nn.CrossEntropyLoss(),\n",
        "    lr=0.1,\n",
        "    #device='cuda',  # comment this to train with CPU\n",
        ")"
      ],
      "metadata": {
        "id": "tPKZSQUaoN_J"
      },
      "execution_count": 46,
      "outputs": []
    },
    {
      "cell_type": "code",
      "source": [
        "from sklearn.pipeline import Pipeline"
      ],
      "metadata": {
        "id": "UFEAkmGwUiqR"
      },
      "execution_count": 47,
      "outputs": []
    },
    {
      "cell_type": "code",
      "source": [
        "# First, we extract some simple features as input for the neural network\n",
        "vec_args = dict(analyzer='char', ngram_range=(2, 2), max_features=100, binary=False)\n",
        "pipe = Pipeline(steps=[\n",
        "        ('Vectorizer', CountVectorizerWrapper(**vec_args)),\n",
        "        ('net', net)\n",
        "    ], verbose=True)"
      ],
      "metadata": {
        "colab": {
          "base_uri": "https://localhost:8080/"
        },
        "id": "unl3ytOJUlT_",
        "outputId": "7c5746f6-0047-4e09-8d41-e791354996ce"
      },
      "execution_count": 48,
      "outputs": [
        {
          "output_type": "stream",
          "name": "stdout",
          "text": [
            "args: [(2, 2), 100]\n"
          ]
        }
      ]
    },
    {
      "cell_type": "code",
      "source": [
        "pipe.fit(X_train, y_train)"
      ],
      "metadata": {
        "colab": {
          "base_uri": "https://localhost:8080/",
          "height": 362
        },
        "id": "u8g49rGUU3s1",
        "outputId": "b1b19b6a-ffac-40d4-b032-b89ea5c70ee2"
      },
      "execution_count": 49,
      "outputs": [
        {
          "output_type": "stream",
          "name": "stdout",
          "text": [
            "[Pipeline] ........ (step 1 of 2) Processing Vectorizer, total=   2.9s\n",
            "  epoch    train_loss    valid_acc    valid_loss     dur\n",
            "-------  ------------  -----------  ------------  ------\n",
            "      1        \u001b[36m1.2135\u001b[0m       \u001b[32m0.8607\u001b[0m        \u001b[35m0.6884\u001b[0m  1.0316\n",
            "      2        \u001b[36m0.7308\u001b[0m       \u001b[32m0.8911\u001b[0m        \u001b[35m0.5141\u001b[0m  1.0607\n",
            "      3        \u001b[36m0.5202\u001b[0m       \u001b[32m0.9080\u001b[0m        \u001b[35m0.4094\u001b[0m  1.0096\n",
            "      4        \u001b[36m0.4284\u001b[0m       \u001b[32m0.9152\u001b[0m        \u001b[35m0.3456\u001b[0m  0.7812\n",
            "      5        \u001b[36m0.3520\u001b[0m       \u001b[32m0.9187\u001b[0m        \u001b[35m0.2945\u001b[0m  0.6710\n",
            "      6        \u001b[36m0.2693\u001b[0m       0.9170        \u001b[35m0.2600\u001b[0m  0.6687\n",
            "      7        \u001b[36m0.2287\u001b[0m       \u001b[32m0.9214\u001b[0m        \u001b[35m0.2338\u001b[0m  0.6370\n",
            "      8        0.2547       \u001b[32m0.9286\u001b[0m        0.2349  0.6807\n",
            "      9        0.2408       \u001b[32m0.9295\u001b[0m        0.2403  0.6560\n",
            "     10        \u001b[36m0.2224\u001b[0m       0.9268        \u001b[35m0.2270\u001b[0m  0.6275\n",
            "[Pipeline] ............... (step 2 of 2) Processing net, total=   7.9s\n"
          ]
        },
        {
          "output_type": "execute_result",
          "data": {
            "text/plain": [
              "Pipeline(steps=[('Vectorizer',\n",
              "                 <__main__.CountVectorizerWrapper object at 0x7b25ac219ba0>),\n",
              "                ('net',\n",
              "                 <class 'skorch.classifier.NeuralNetClassifier'>[initialized](\n",
              "  module_=ClassifierModule(\n",
              "    (dense0): Linear(in_features=100, out_features=200, bias=True)\n",
              "    (dense1): Linear(in_features=200, out_features=50, bias=True)\n",
              "    (output): Linear(in_features=50, out_features=7, bias=True)\n",
              "  ),\n",
              "))],\n",
              "         verbose=True)"
            ],
            "text/html": [
              "<style>#sk-container-id-1 {color: black;background-color: white;}#sk-container-id-1 pre{padding: 0;}#sk-container-id-1 div.sk-toggleable {background-color: white;}#sk-container-id-1 label.sk-toggleable__label {cursor: pointer;display: block;width: 100%;margin-bottom: 0;padding: 0.3em;box-sizing: border-box;text-align: center;}#sk-container-id-1 label.sk-toggleable__label-arrow:before {content: \"▸\";float: left;margin-right: 0.25em;color: #696969;}#sk-container-id-1 label.sk-toggleable__label-arrow:hover:before {color: black;}#sk-container-id-1 div.sk-estimator:hover label.sk-toggleable__label-arrow:before {color: black;}#sk-container-id-1 div.sk-toggleable__content {max-height: 0;max-width: 0;overflow: hidden;text-align: left;background-color: #f0f8ff;}#sk-container-id-1 div.sk-toggleable__content pre {margin: 0.2em;color: black;border-radius: 0.25em;background-color: #f0f8ff;}#sk-container-id-1 input.sk-toggleable__control:checked~div.sk-toggleable__content {max-height: 200px;max-width: 100%;overflow: auto;}#sk-container-id-1 input.sk-toggleable__control:checked~label.sk-toggleable__label-arrow:before {content: \"▾\";}#sk-container-id-1 div.sk-estimator input.sk-toggleable__control:checked~label.sk-toggleable__label {background-color: #d4ebff;}#sk-container-id-1 div.sk-label input.sk-toggleable__control:checked~label.sk-toggleable__label {background-color: #d4ebff;}#sk-container-id-1 input.sk-hidden--visually {border: 0;clip: rect(1px 1px 1px 1px);clip: rect(1px, 1px, 1px, 1px);height: 1px;margin: -1px;overflow: hidden;padding: 0;position: absolute;width: 1px;}#sk-container-id-1 div.sk-estimator {font-family: monospace;background-color: #f0f8ff;border: 1px dotted black;border-radius: 0.25em;box-sizing: border-box;margin-bottom: 0.5em;}#sk-container-id-1 div.sk-estimator:hover {background-color: #d4ebff;}#sk-container-id-1 div.sk-parallel-item::after {content: \"\";width: 100%;border-bottom: 1px solid gray;flex-grow: 1;}#sk-container-id-1 div.sk-label:hover label.sk-toggleable__label {background-color: #d4ebff;}#sk-container-id-1 div.sk-serial::before {content: \"\";position: absolute;border-left: 1px solid gray;box-sizing: border-box;top: 0;bottom: 0;left: 50%;z-index: 0;}#sk-container-id-1 div.sk-serial {display: flex;flex-direction: column;align-items: center;background-color: white;padding-right: 0.2em;padding-left: 0.2em;position: relative;}#sk-container-id-1 div.sk-item {position: relative;z-index: 1;}#sk-container-id-1 div.sk-parallel {display: flex;align-items: stretch;justify-content: center;background-color: white;position: relative;}#sk-container-id-1 div.sk-item::before, #sk-container-id-1 div.sk-parallel-item::before {content: \"\";position: absolute;border-left: 1px solid gray;box-sizing: border-box;top: 0;bottom: 0;left: 50%;z-index: -1;}#sk-container-id-1 div.sk-parallel-item {display: flex;flex-direction: column;z-index: 1;position: relative;background-color: white;}#sk-container-id-1 div.sk-parallel-item:first-child::after {align-self: flex-end;width: 50%;}#sk-container-id-1 div.sk-parallel-item:last-child::after {align-self: flex-start;width: 50%;}#sk-container-id-1 div.sk-parallel-item:only-child::after {width: 0;}#sk-container-id-1 div.sk-dashed-wrapped {border: 1px dashed gray;margin: 0 0.4em 0.5em 0.4em;box-sizing: border-box;padding-bottom: 0.4em;background-color: white;}#sk-container-id-1 div.sk-label label {font-family: monospace;font-weight: bold;display: inline-block;line-height: 1.2em;}#sk-container-id-1 div.sk-label-container {text-align: center;}#sk-container-id-1 div.sk-container {/* jupyter's `normalize.less` sets `[hidden] { display: none; }` but bootstrap.min.css set `[hidden] { display: none !important; }` so we also need the `!important` here to be able to override the default hidden behavior on the sphinx rendered scikit-learn.org. See: https://github.com/scikit-learn/scikit-learn/issues/21755 */display: inline-block !important;position: relative;}#sk-container-id-1 div.sk-text-repr-fallback {display: none;}</style><div id=\"sk-container-id-1\" class=\"sk-top-container\"><div class=\"sk-text-repr-fallback\"><pre>Pipeline(steps=[(&#x27;Vectorizer&#x27;,\n",
              "                 &lt;__main__.CountVectorizerWrapper object at 0x7b25ac219ba0&gt;),\n",
              "                (&#x27;net&#x27;,\n",
              "                 &lt;class &#x27;skorch.classifier.NeuralNetClassifier&#x27;&gt;[initialized](\n",
              "  module_=ClassifierModule(\n",
              "    (dense0): Linear(in_features=100, out_features=200, bias=True)\n",
              "    (dense1): Linear(in_features=200, out_features=50, bias=True)\n",
              "    (output): Linear(in_features=50, out_features=7, bias=True)\n",
              "  ),\n",
              "))],\n",
              "         verbose=True)</pre><b>In a Jupyter environment, please rerun this cell to show the HTML representation or trust the notebook. <br />On GitHub, the HTML representation is unable to render, please try loading this page with nbviewer.org.</b></div><div class=\"sk-container\" hidden><div class=\"sk-item sk-dashed-wrapped\"><div class=\"sk-label-container\"><div class=\"sk-label sk-toggleable\"><input class=\"sk-toggleable__control sk-hidden--visually\" id=\"sk-estimator-id-1\" type=\"checkbox\" ><label for=\"sk-estimator-id-1\" class=\"sk-toggleable__label sk-toggleable__label-arrow\">Pipeline</label><div class=\"sk-toggleable__content\"><pre>Pipeline(steps=[(&#x27;Vectorizer&#x27;,\n",
              "                 &lt;__main__.CountVectorizerWrapper object at 0x7b25ac219ba0&gt;),\n",
              "                (&#x27;net&#x27;,\n",
              "                 &lt;class &#x27;skorch.classifier.NeuralNetClassifier&#x27;&gt;[initialized](\n",
              "  module_=ClassifierModule(\n",
              "    (dense0): Linear(in_features=100, out_features=200, bias=True)\n",
              "    (dense1): Linear(in_features=200, out_features=50, bias=True)\n",
              "    (output): Linear(in_features=50, out_features=7, bias=True)\n",
              "  ),\n",
              "))],\n",
              "         verbose=True)</pre></div></div></div><div class=\"sk-serial\"><div class=\"sk-item\"><div class=\"sk-estimator sk-toggleable\"><input class=\"sk-toggleable__control sk-hidden--visually\" id=\"sk-estimator-id-2\" type=\"checkbox\" ><label for=\"sk-estimator-id-2\" class=\"sk-toggleable__label sk-toggleable__label-arrow\">CountVectorizerWrapper</label><div class=\"sk-toggleable__content\"><pre>&lt;__main__.CountVectorizerWrapper object at 0x7b25ac219ba0&gt;</pre></div></div></div><div class=\"sk-item\"><div class=\"sk-estimator sk-toggleable\"><input class=\"sk-toggleable__control sk-hidden--visually\" id=\"sk-estimator-id-3\" type=\"checkbox\" ><label for=\"sk-estimator-id-3\" class=\"sk-toggleable__label sk-toggleable__label-arrow\">NeuralNetClassifier</label><div class=\"sk-toggleable__content\"><pre>&lt;class &#x27;skorch.classifier.NeuralNetClassifier&#x27;&gt;[initialized](\n",
              "  module_=ClassifierModule(\n",
              "    (dense0): Linear(in_features=100, out_features=200, bias=True)\n",
              "    (dense1): Linear(in_features=200, out_features=50, bias=True)\n",
              "    (output): Linear(in_features=50, out_features=7, bias=True)\n",
              "  ),\n",
              ")</pre></div></div></div></div></div></div></div>"
            ]
          },
          "metadata": {},
          "execution_count": 49
        }
      ]
    },
    {
      "cell_type": "code",
      "source": [
        "from skorch.callbacks.training import EarlyStopping\n",
        "from sklearn.model_selection import GridSearchCV\n",
        "\n",
        "# deactivate skorch-internal train-valid split and verbose logging\n",
        "net.set_params(train_split=False, verbose=0)\n",
        "params = {\n",
        "    'net__lr': [0.1, 0.01, 0.2],\n",
        "    'net__predict_nonlinearity': [F.relu, F.tanh, F.sigmoid],\n",
        "    'net__max_epochs': [10, 20],\n",
        "    #'net__callbacks': [('early_stopping', EarlyStopping())]\n",
        "}"
      ],
      "metadata": {
        "id": "I5ybf-VEU5rA"
      },
      "execution_count": 76,
      "outputs": []
    },
    {
      "cell_type": "code",
      "source": [
        "vec_args = dict(analyzer='char', ngram_range=(2, 2), max_features=100, binary=False)\n",
        "pipe = Pipeline(steps=[\n",
        "        ('Vectorizer', CountVectorizerWrapper(**vec_args)),\n",
        "        ('net', net)\n",
        "    ], verbose=True)"
      ],
      "metadata": {
        "colab": {
          "base_uri": "https://localhost:8080/"
        },
        "id": "pbveizkHU9Pa",
        "outputId": "75aef398-348c-4161-df50-a7bb17a7bb7b"
      },
      "execution_count": 77,
      "outputs": [
        {
          "output_type": "stream",
          "name": "stdout",
          "text": [
            "args: [(2, 2), 100]\n"
          ]
        }
      ]
    },
    {
      "cell_type": "code",
      "source": [
        "grid_net = GridSearchCV(pipe, params, refit=False, cv=2, scoring='accuracy')"
      ],
      "metadata": {
        "id": "RuN4bchqU_Wc"
      },
      "execution_count": 78,
      "outputs": []
    },
    {
      "cell_type": "code",
      "source": [
        "grid_net.fit(X_train, y_train)"
      ],
      "metadata": {
        "colab": {
          "base_uri": "https://localhost:8080/",
          "height": 1000
        },
        "id": "wxPTe_n-VBQW",
        "outputId": "8f880b98-b1af-479a-8156-c7139f0a8b09"
      },
      "execution_count": 79,
      "outputs": [
        {
          "output_type": "stream",
          "name": "stdout",
          "text": [
            "[Pipeline] ........ (step 1 of 2) Processing Vectorizer, total=   1.2s\n",
            "[Pipeline] ............... (step 2 of 2) Processing net, total=   3.6s\n",
            "[Pipeline] ........ (step 1 of 2) Processing Vectorizer, total=   1.1s\n",
            "[Pipeline] ............... (step 2 of 2) Processing net, total=   3.6s\n",
            "[Pipeline] ........ (step 1 of 2) Processing Vectorizer, total=   1.5s\n",
            "[Pipeline] ............... (step 2 of 2) Processing net, total=   3.7s\n",
            "[Pipeline] ........ (step 1 of 2) Processing Vectorizer, total=   1.1s\n",
            "[Pipeline] ............... (step 2 of 2) Processing net, total=   3.6s\n",
            "[Pipeline] ........ (step 1 of 2) Processing Vectorizer, total=   1.6s\n",
            "[Pipeline] ............... (step 2 of 2) Processing net, total=   3.4s\n",
            "[Pipeline] ........ (step 1 of 2) Processing Vectorizer, total=   1.1s\n",
            "[Pipeline] ............... (step 2 of 2) Processing net, total=   3.4s\n",
            "[Pipeline] ........ (step 1 of 2) Processing Vectorizer, total=   2.2s\n",
            "[Pipeline] ............... (step 2 of 2) Processing net, total=   6.5s\n",
            "[Pipeline] ........ (step 1 of 2) Processing Vectorizer, total=   1.3s\n",
            "[Pipeline] ............... (step 2 of 2) Processing net, total=   7.3s\n",
            "[Pipeline] ........ (step 1 of 2) Processing Vectorizer, total=   1.3s\n",
            "[Pipeline] ............... (step 2 of 2) Processing net, total=   7.3s\n",
            "[Pipeline] ........ (step 1 of 2) Processing Vectorizer, total=   1.4s\n",
            "[Pipeline] ............... (step 2 of 2) Processing net, total=   6.5s\n",
            "[Pipeline] ........ (step 1 of 2) Processing Vectorizer, total=   2.4s\n",
            "[Pipeline] ............... (step 2 of 2) Processing net, total=   6.9s\n",
            "[Pipeline] ........ (step 1 of 2) Processing Vectorizer, total=   1.1s\n",
            "[Pipeline] ............... (step 2 of 2) Processing net, total=   7.7s\n",
            "[Pipeline] ........ (step 1 of 2) Processing Vectorizer, total=   1.3s\n",
            "[Pipeline] ............... (step 2 of 2) Processing net, total=   3.2s\n",
            "[Pipeline] ........ (step 1 of 2) Processing Vectorizer, total=   1.9s\n",
            "[Pipeline] ............... (step 2 of 2) Processing net, total=   3.7s\n",
            "[Pipeline] ........ (step 1 of 2) Processing Vectorizer, total=   1.2s\n",
            "[Pipeline] ............... (step 2 of 2) Processing net, total=   3.6s\n",
            "[Pipeline] ........ (step 1 of 2) Processing Vectorizer, total=   1.6s\n",
            "[Pipeline] ............... (step 2 of 2) Processing net, total=   4.0s\n",
            "[Pipeline] ........ (step 1 of 2) Processing Vectorizer, total=   1.2s\n",
            "[Pipeline] ............... (step 2 of 2) Processing net, total=   3.3s\n",
            "[Pipeline] ........ (step 1 of 2) Processing Vectorizer, total=   1.1s\n",
            "[Pipeline] ............... (step 2 of 2) Processing net, total=   4.2s\n",
            "[Pipeline] ........ (step 1 of 2) Processing Vectorizer, total=   1.4s\n",
            "[Pipeline] ............... (step 2 of 2) Processing net, total=   6.3s\n",
            "[Pipeline] ........ (step 1 of 2) Processing Vectorizer, total=   2.1s\n",
            "[Pipeline] ............... (step 2 of 2) Processing net, total=   6.3s\n",
            "[Pipeline] ........ (step 1 of 2) Processing Vectorizer, total=   1.2s\n",
            "[Pipeline] ............... (step 2 of 2) Processing net, total=   7.7s\n",
            "[Pipeline] ........ (step 1 of 2) Processing Vectorizer, total=   1.1s\n",
            "[Pipeline] ............... (step 2 of 2) Processing net, total=   7.5s\n",
            "[Pipeline] ........ (step 1 of 2) Processing Vectorizer, total=   1.3s\n",
            "[Pipeline] ............... (step 2 of 2) Processing net, total=   6.3s\n",
            "[Pipeline] ........ (step 1 of 2) Processing Vectorizer, total=   2.0s\n",
            "[Pipeline] ............... (step 2 of 2) Processing net, total=   6.9s\n",
            "[Pipeline] ........ (step 1 of 2) Processing Vectorizer, total=   1.4s\n",
            "[Pipeline] ............... (step 2 of 2) Processing net, total=   4.2s\n",
            "[Pipeline] ........ (step 1 of 2) Processing Vectorizer, total=   1.1s\n",
            "[Pipeline] ............... (step 2 of 2) Processing net, total=   3.2s\n",
            "[Pipeline] ........ (step 1 of 2) Processing Vectorizer, total=   1.2s\n",
            "[Pipeline] ............... (step 2 of 2) Processing net, total=   3.9s\n",
            "[Pipeline] ........ (step 1 of 2) Processing Vectorizer, total=   1.2s\n",
            "[Pipeline] ............... (step 2 of 2) Processing net, total=   3.2s\n",
            "[Pipeline] ........ (step 1 of 2) Processing Vectorizer, total=   1.2s\n",
            "[Pipeline] ............... (step 2 of 2) Processing net, total=   3.2s\n",
            "[Pipeline] ........ (step 1 of 2) Processing Vectorizer, total=   2.2s\n",
            "[Pipeline] ............... (step 2 of 2) Processing net, total=   3.5s\n",
            "[Pipeline] ........ (step 1 of 2) Processing Vectorizer, total=   1.2s\n",
            "[Pipeline] ............... (step 2 of 2) Processing net, total=   8.2s\n",
            "[Pipeline] ........ (step 1 of 2) Processing Vectorizer, total=   1.3s\n",
            "[Pipeline] ............... (step 2 of 2) Processing net, total=   8.2s\n",
            "[Pipeline] ........ (step 1 of 2) Processing Vectorizer, total=   1.2s\n",
            "[Pipeline] ............... (step 2 of 2) Processing net, total=   6.9s\n",
            "[Pipeline] ........ (step 1 of 2) Processing Vectorizer, total=   1.4s\n",
            "[Pipeline] ............... (step 2 of 2) Processing net, total=   7.5s\n",
            "[Pipeline] ........ (step 1 of 2) Processing Vectorizer, total=   1.3s\n",
            "[Pipeline] ............... (step 2 of 2) Processing net, total=   7.9s\n",
            "[Pipeline] ........ (step 1 of 2) Processing Vectorizer, total=   1.3s\n",
            "[Pipeline] ............... (step 2 of 2) Processing net, total=   7.5s\n"
          ]
        },
        {
          "output_type": "execute_result",
          "data": {
            "text/plain": [
              "GridSearchCV(cv=2,\n",
              "             estimator=Pipeline(steps=[('Vectorizer',\n",
              "                                        <__main__.CountVectorizerWrapper object at 0x7b25ac2500d0>),\n",
              "                                       ('net',\n",
              "                                        <class 'skorch.classifier.NeuralNetClassifier'>[initialized](\n",
              "  module_=ClassifierModule(\n",
              "    (dense0): Linear(in_features=100, out_features=200, bias=True)\n",
              "    (dense1): Linear(in_features=200, out_features=50, bias=True)\n",
              "    (output): Linear(in_features=50, out_features=7, bias=True)\n",
              "  ),\n",
              "))],\n",
              "                                verbose=True),\n",
              "             param_grid={'net__lr': [0.1, 0.01, 0.2],\n",
              "                         'net__max_epochs': [10, 20],\n",
              "                         'net__predict_nonlinearity': [<function relu at 0x7b265dbaca60>,\n",
              "                                                       <function tanh at 0x7b265dbad480>,\n",
              "                                                       <function sigmoid at 0x7b265dbad510>]},\n",
              "             refit=False, scoring='accuracy')"
            ],
            "text/html": [
              "<style>#sk-container-id-2 {color: black;background-color: white;}#sk-container-id-2 pre{padding: 0;}#sk-container-id-2 div.sk-toggleable {background-color: white;}#sk-container-id-2 label.sk-toggleable__label {cursor: pointer;display: block;width: 100%;margin-bottom: 0;padding: 0.3em;box-sizing: border-box;text-align: center;}#sk-container-id-2 label.sk-toggleable__label-arrow:before {content: \"▸\";float: left;margin-right: 0.25em;color: #696969;}#sk-container-id-2 label.sk-toggleable__label-arrow:hover:before {color: black;}#sk-container-id-2 div.sk-estimator:hover label.sk-toggleable__label-arrow:before {color: black;}#sk-container-id-2 div.sk-toggleable__content {max-height: 0;max-width: 0;overflow: hidden;text-align: left;background-color: #f0f8ff;}#sk-container-id-2 div.sk-toggleable__content pre {margin: 0.2em;color: black;border-radius: 0.25em;background-color: #f0f8ff;}#sk-container-id-2 input.sk-toggleable__control:checked~div.sk-toggleable__content {max-height: 200px;max-width: 100%;overflow: auto;}#sk-container-id-2 input.sk-toggleable__control:checked~label.sk-toggleable__label-arrow:before {content: \"▾\";}#sk-container-id-2 div.sk-estimator input.sk-toggleable__control:checked~label.sk-toggleable__label {background-color: #d4ebff;}#sk-container-id-2 div.sk-label input.sk-toggleable__control:checked~label.sk-toggleable__label {background-color: #d4ebff;}#sk-container-id-2 input.sk-hidden--visually {border: 0;clip: rect(1px 1px 1px 1px);clip: rect(1px, 1px, 1px, 1px);height: 1px;margin: -1px;overflow: hidden;padding: 0;position: absolute;width: 1px;}#sk-container-id-2 div.sk-estimator {font-family: monospace;background-color: #f0f8ff;border: 1px dotted black;border-radius: 0.25em;box-sizing: border-box;margin-bottom: 0.5em;}#sk-container-id-2 div.sk-estimator:hover {background-color: #d4ebff;}#sk-container-id-2 div.sk-parallel-item::after {content: \"\";width: 100%;border-bottom: 1px solid gray;flex-grow: 1;}#sk-container-id-2 div.sk-label:hover label.sk-toggleable__label {background-color: #d4ebff;}#sk-container-id-2 div.sk-serial::before {content: \"\";position: absolute;border-left: 1px solid gray;box-sizing: border-box;top: 0;bottom: 0;left: 50%;z-index: 0;}#sk-container-id-2 div.sk-serial {display: flex;flex-direction: column;align-items: center;background-color: white;padding-right: 0.2em;padding-left: 0.2em;position: relative;}#sk-container-id-2 div.sk-item {position: relative;z-index: 1;}#sk-container-id-2 div.sk-parallel {display: flex;align-items: stretch;justify-content: center;background-color: white;position: relative;}#sk-container-id-2 div.sk-item::before, #sk-container-id-2 div.sk-parallel-item::before {content: \"\";position: absolute;border-left: 1px solid gray;box-sizing: border-box;top: 0;bottom: 0;left: 50%;z-index: -1;}#sk-container-id-2 div.sk-parallel-item {display: flex;flex-direction: column;z-index: 1;position: relative;background-color: white;}#sk-container-id-2 div.sk-parallel-item:first-child::after {align-self: flex-end;width: 50%;}#sk-container-id-2 div.sk-parallel-item:last-child::after {align-self: flex-start;width: 50%;}#sk-container-id-2 div.sk-parallel-item:only-child::after {width: 0;}#sk-container-id-2 div.sk-dashed-wrapped {border: 1px dashed gray;margin: 0 0.4em 0.5em 0.4em;box-sizing: border-box;padding-bottom: 0.4em;background-color: white;}#sk-container-id-2 div.sk-label label {font-family: monospace;font-weight: bold;display: inline-block;line-height: 1.2em;}#sk-container-id-2 div.sk-label-container {text-align: center;}#sk-container-id-2 div.sk-container {/* jupyter's `normalize.less` sets `[hidden] { display: none; }` but bootstrap.min.css set `[hidden] { display: none !important; }` so we also need the `!important` here to be able to override the default hidden behavior on the sphinx rendered scikit-learn.org. See: https://github.com/scikit-learn/scikit-learn/issues/21755 */display: inline-block !important;position: relative;}#sk-container-id-2 div.sk-text-repr-fallback {display: none;}</style><div id=\"sk-container-id-2\" class=\"sk-top-container\"><div class=\"sk-text-repr-fallback\"><pre>GridSearchCV(cv=2,\n",
              "             estimator=Pipeline(steps=[(&#x27;Vectorizer&#x27;,\n",
              "                                        &lt;__main__.CountVectorizerWrapper object at 0x7b25ac2500d0&gt;),\n",
              "                                       (&#x27;net&#x27;,\n",
              "                                        &lt;class &#x27;skorch.classifier.NeuralNetClassifier&#x27;&gt;[initialized](\n",
              "  module_=ClassifierModule(\n",
              "    (dense0): Linear(in_features=100, out_features=200, bias=True)\n",
              "    (dense1): Linear(in_features=200, out_features=50, bias=True)\n",
              "    (output): Linear(in_features=50, out_features=7, bias=True)\n",
              "  ),\n",
              "))],\n",
              "                                verbose=True),\n",
              "             param_grid={&#x27;net__lr&#x27;: [0.1, 0.01, 0.2],\n",
              "                         &#x27;net__max_epochs&#x27;: [10, 20],\n",
              "                         &#x27;net__predict_nonlinearity&#x27;: [&lt;function relu at 0x7b265dbaca60&gt;,\n",
              "                                                       &lt;function tanh at 0x7b265dbad480&gt;,\n",
              "                                                       &lt;function sigmoid at 0x7b265dbad510&gt;]},\n",
              "             refit=False, scoring=&#x27;accuracy&#x27;)</pre><b>In a Jupyter environment, please rerun this cell to show the HTML representation or trust the notebook. <br />On GitHub, the HTML representation is unable to render, please try loading this page with nbviewer.org.</b></div><div class=\"sk-container\" hidden><div class=\"sk-item sk-dashed-wrapped\"><div class=\"sk-label-container\"><div class=\"sk-label sk-toggleable\"><input class=\"sk-toggleable__control sk-hidden--visually\" id=\"sk-estimator-id-4\" type=\"checkbox\" ><label for=\"sk-estimator-id-4\" class=\"sk-toggleable__label sk-toggleable__label-arrow\">GridSearchCV</label><div class=\"sk-toggleable__content\"><pre>GridSearchCV(cv=2,\n",
              "             estimator=Pipeline(steps=[(&#x27;Vectorizer&#x27;,\n",
              "                                        &lt;__main__.CountVectorizerWrapper object at 0x7b25ac2500d0&gt;),\n",
              "                                       (&#x27;net&#x27;,\n",
              "                                        &lt;class &#x27;skorch.classifier.NeuralNetClassifier&#x27;&gt;[initialized](\n",
              "  module_=ClassifierModule(\n",
              "    (dense0): Linear(in_features=100, out_features=200, bias=True)\n",
              "    (dense1): Linear(in_features=200, out_features=50, bias=True)\n",
              "    (output): Linear(in_features=50, out_features=7, bias=True)\n",
              "  ),\n",
              "))],\n",
              "                                verbose=True),\n",
              "             param_grid={&#x27;net__lr&#x27;: [0.1, 0.01, 0.2],\n",
              "                         &#x27;net__max_epochs&#x27;: [10, 20],\n",
              "                         &#x27;net__predict_nonlinearity&#x27;: [&lt;function relu at 0x7b265dbaca60&gt;,\n",
              "                                                       &lt;function tanh at 0x7b265dbad480&gt;,\n",
              "                                                       &lt;function sigmoid at 0x7b265dbad510&gt;]},\n",
              "             refit=False, scoring=&#x27;accuracy&#x27;)</pre></div></div></div><div class=\"sk-parallel\"><div class=\"sk-parallel-item\"><div class=\"sk-item\"><div class=\"sk-label-container\"><div class=\"sk-label sk-toggleable\"><input class=\"sk-toggleable__control sk-hidden--visually\" id=\"sk-estimator-id-5\" type=\"checkbox\" ><label for=\"sk-estimator-id-5\" class=\"sk-toggleable__label sk-toggleable__label-arrow\">estimator: Pipeline</label><div class=\"sk-toggleable__content\"><pre>Pipeline(steps=[(&#x27;Vectorizer&#x27;,\n",
              "                 &lt;__main__.CountVectorizerWrapper object at 0x7b25ac2500d0&gt;),\n",
              "                (&#x27;net&#x27;,\n",
              "                 &lt;class &#x27;skorch.classifier.NeuralNetClassifier&#x27;&gt;[initialized](\n",
              "  module_=ClassifierModule(\n",
              "    (dense0): Linear(in_features=100, out_features=200, bias=True)\n",
              "    (dense1): Linear(in_features=200, out_features=50, bias=True)\n",
              "    (output): Linear(in_features=50, out_features=7, bias=True)\n",
              "  ),\n",
              "))],\n",
              "         verbose=True)</pre></div></div></div><div class=\"sk-serial\"><div class=\"sk-item\"><div class=\"sk-serial\"><div class=\"sk-item\"><div class=\"sk-estimator sk-toggleable\"><input class=\"sk-toggleable__control sk-hidden--visually\" id=\"sk-estimator-id-6\" type=\"checkbox\" ><label for=\"sk-estimator-id-6\" class=\"sk-toggleable__label sk-toggleable__label-arrow\">CountVectorizerWrapper</label><div class=\"sk-toggleable__content\"><pre>&lt;__main__.CountVectorizerWrapper object at 0x7b25ac2500d0&gt;</pre></div></div></div><div class=\"sk-item\"><div class=\"sk-estimator sk-toggleable\"><input class=\"sk-toggleable__control sk-hidden--visually\" id=\"sk-estimator-id-7\" type=\"checkbox\" ><label for=\"sk-estimator-id-7\" class=\"sk-toggleable__label sk-toggleable__label-arrow\">NeuralNetClassifier</label><div class=\"sk-toggleable__content\"><pre>&lt;class &#x27;skorch.classifier.NeuralNetClassifier&#x27;&gt;[initialized](\n",
              "  module_=ClassifierModule(\n",
              "    (dense0): Linear(in_features=100, out_features=200, bias=True)\n",
              "    (dense1): Linear(in_features=200, out_features=50, bias=True)\n",
              "    (output): Linear(in_features=50, out_features=7, bias=True)\n",
              "  ),\n",
              ")</pre></div></div></div></div></div></div></div></div></div></div></div></div>"
            ]
          },
          "metadata": {},
          "execution_count": 79
        }
      ]
    },
    {
      "cell_type": "code",
      "source": [
        "print(grid_net.best_score_, grid_net.best_params_)"
      ],
      "metadata": {
        "colab": {
          "base_uri": "https://localhost:8080/"
        },
        "id": "fyOV6jQPVC_Q",
        "outputId": "3c823f9b-8029-4e6f-afc8-06ff760527c4"
      },
      "execution_count": 80,
      "outputs": [
        {
          "output_type": "stream",
          "name": "stdout",
          "text": [
            "0.9094642857142857 {'net__lr': 0.2, 'net__max_epochs': 10, 'net__predict_nonlinearity': <function relu at 0x7b265dbaca60>}\n"
          ]
        }
      ]
    },
    {
      "cell_type": "code",
      "source": [
        "grid_net.fit(X_test, y_test)"
      ],
      "metadata": {
        "colab": {
          "base_uri": "https://localhost:8080/",
          "height": 1000
        },
        "id": "u8pcDrXLokb9",
        "outputId": "36997231-9dca-4176-9766-3e3e03c27232"
      },
      "execution_count": 81,
      "outputs": [
        {
          "output_type": "stream",
          "name": "stdout",
          "text": [
            "[Pipeline] ........ (step 1 of 2) Processing Vectorizer, total=   0.4s\n",
            "[Pipeline] ............... (step 2 of 2) Processing net, total=   0.9s\n",
            "[Pipeline] ........ (step 1 of 2) Processing Vectorizer, total=   0.3s\n",
            "[Pipeline] ............... (step 2 of 2) Processing net, total=   0.9s\n",
            "[Pipeline] ........ (step 1 of 2) Processing Vectorizer, total=   0.3s\n",
            "[Pipeline] ............... (step 2 of 2) Processing net, total=   0.9s\n",
            "[Pipeline] ........ (step 1 of 2) Processing Vectorizer, total=   0.3s\n",
            "[Pipeline] ............... (step 2 of 2) Processing net, total=   0.9s\n",
            "[Pipeline] ........ (step 1 of 2) Processing Vectorizer, total=   0.5s\n",
            "[Pipeline] ............... (step 2 of 2) Processing net, total=   1.3s\n",
            "[Pipeline] ........ (step 1 of 2) Processing Vectorizer, total=   0.6s\n",
            "[Pipeline] ............... (step 2 of 2) Processing net, total=   0.8s\n",
            "[Pipeline] ........ (step 1 of 2) Processing Vectorizer, total=   0.3s\n",
            "[Pipeline] ............... (step 2 of 2) Processing net, total=   1.9s\n",
            "[Pipeline] ........ (step 1 of 2) Processing Vectorizer, total=   0.3s\n",
            "[Pipeline] ............... (step 2 of 2) Processing net, total=   1.8s\n",
            "[Pipeline] ........ (step 1 of 2) Processing Vectorizer, total=   0.3s\n",
            "[Pipeline] ............... (step 2 of 2) Processing net, total=   1.9s\n",
            "[Pipeline] ........ (step 1 of 2) Processing Vectorizer, total=   0.4s\n",
            "[Pipeline] ............... (step 2 of 2) Processing net, total=   2.1s\n",
            "[Pipeline] ........ (step 1 of 2) Processing Vectorizer, total=   0.6s\n",
            "[Pipeline] ............... (step 2 of 2) Processing net, total=   2.2s\n",
            "[Pipeline] ........ (step 1 of 2) Processing Vectorizer, total=   0.3s\n",
            "[Pipeline] ............... (step 2 of 2) Processing net, total=   1.6s\n",
            "[Pipeline] ........ (step 1 of 2) Processing Vectorizer, total=   0.3s\n",
            "[Pipeline] ............... (step 2 of 2) Processing net, total=   0.8s\n",
            "[Pipeline] ........ (step 1 of 2) Processing Vectorizer, total=   0.3s\n",
            "[Pipeline] ............... (step 2 of 2) Processing net, total=   0.8s\n",
            "[Pipeline] ........ (step 1 of 2) Processing Vectorizer, total=   0.3s\n",
            "[Pipeline] ............... (step 2 of 2) Processing net, total=   0.9s\n",
            "[Pipeline] ........ (step 1 of 2) Processing Vectorizer, total=   0.3s\n",
            "[Pipeline] ............... (step 2 of 2) Processing net, total=   0.8s\n",
            "[Pipeline] ........ (step 1 of 2) Processing Vectorizer, total=   0.3s\n",
            "[Pipeline] ............... (step 2 of 2) Processing net, total=   0.9s\n",
            "[Pipeline] ........ (step 1 of 2) Processing Vectorizer, total=   0.6s\n",
            "[Pipeline] ............... (step 2 of 2) Processing net, total=   1.3s\n",
            "[Pipeline] ........ (step 1 of 2) Processing Vectorizer, total=   0.3s\n",
            "[Pipeline] ............... (step 2 of 2) Processing net, total=   1.8s\n",
            "[Pipeline] ........ (step 1 of 2) Processing Vectorizer, total=   0.4s\n",
            "[Pipeline] ............... (step 2 of 2) Processing net, total=   1.8s\n",
            "[Pipeline] ........ (step 1 of 2) Processing Vectorizer, total=   0.3s\n",
            "[Pipeline] ............... (step 2 of 2) Processing net, total=   1.8s\n",
            "[Pipeline] ........ (step 1 of 2) Processing Vectorizer, total=   0.3s\n",
            "[Pipeline] ............... (step 2 of 2) Processing net, total=   1.6s\n",
            "[Pipeline] ........ (step 1 of 2) Processing Vectorizer, total=   0.3s\n",
            "[Pipeline] ............... (step 2 of 2) Processing net, total=   2.3s\n",
            "[Pipeline] ........ (step 1 of 2) Processing Vectorizer, total=   0.6s\n",
            "[Pipeline] ............... (step 2 of 2) Processing net, total=   1.8s\n",
            "[Pipeline] ........ (step 1 of 2) Processing Vectorizer, total=   0.3s\n",
            "[Pipeline] ............... (step 2 of 2) Processing net, total=   0.8s\n",
            "[Pipeline] ........ (step 1 of 2) Processing Vectorizer, total=   0.3s\n",
            "[Pipeline] ............... (step 2 of 2) Processing net, total=   1.0s\n",
            "[Pipeline] ........ (step 1 of 2) Processing Vectorizer, total=   0.3s\n",
            "[Pipeline] ............... (step 2 of 2) Processing net, total=   0.9s\n",
            "[Pipeline] ........ (step 1 of 2) Processing Vectorizer, total=   0.3s\n",
            "[Pipeline] ............... (step 2 of 2) Processing net, total=   1.0s\n",
            "[Pipeline] ........ (step 1 of 2) Processing Vectorizer, total=   0.3s\n",
            "[Pipeline] ............... (step 2 of 2) Processing net, total=   0.9s\n",
            "[Pipeline] ........ (step 1 of 2) Processing Vectorizer, total=   0.3s\n",
            "[Pipeline] ............... (step 2 of 2) Processing net, total=   1.1s\n",
            "[Pipeline] ........ (step 1 of 2) Processing Vectorizer, total=   0.6s\n",
            "[Pipeline] ............... (step 2 of 2) Processing net, total=   2.2s\n",
            "[Pipeline] ........ (step 1 of 2) Processing Vectorizer, total=   0.3s\n",
            "[Pipeline] ............... (step 2 of 2) Processing net, total=   1.7s\n",
            "[Pipeline] ........ (step 1 of 2) Processing Vectorizer, total=   0.3s\n",
            "[Pipeline] ............... (step 2 of 2) Processing net, total=   1.8s\n",
            "[Pipeline] ........ (step 1 of 2) Processing Vectorizer, total=   0.3s\n",
            "[Pipeline] ............... (step 2 of 2) Processing net, total=   1.8s\n",
            "[Pipeline] ........ (step 1 of 2) Processing Vectorizer, total=   0.3s\n",
            "[Pipeline] ............... (step 2 of 2) Processing net, total=   1.7s\n",
            "[Pipeline] ........ (step 1 of 2) Processing Vectorizer, total=   0.6s\n",
            "[Pipeline] ............... (step 2 of 2) Processing net, total=   2.3s\n"
          ]
        },
        {
          "output_type": "execute_result",
          "data": {
            "text/plain": [
              "GridSearchCV(cv=2,\n",
              "             estimator=Pipeline(steps=[('Vectorizer',\n",
              "                                        <__main__.CountVectorizerWrapper object at 0x7b25ac2500d0>),\n",
              "                                       ('net',\n",
              "                                        <class 'skorch.classifier.NeuralNetClassifier'>[initialized](\n",
              "  module_=ClassifierModule(\n",
              "    (dense0): Linear(in_features=100, out_features=200, bias=True)\n",
              "    (dense1): Linear(in_features=200, out_features=50, bias=True)\n",
              "    (output): Linear(in_features=50, out_features=7, bias=True)\n",
              "  ),\n",
              "))],\n",
              "                                verbose=True),\n",
              "             param_grid={'net__lr': [0.1, 0.01, 0.2],\n",
              "                         'net__max_epochs': [10, 20],\n",
              "                         'net__predict_nonlinearity': [<function relu at 0x7b265dbaca60>,\n",
              "                                                       <function tanh at 0x7b265dbad480>,\n",
              "                                                       <function sigmoid at 0x7b265dbad510>]},\n",
              "             refit=False, scoring='accuracy')"
            ],
            "text/html": [
              "<style>#sk-container-id-3 {color: black;background-color: white;}#sk-container-id-3 pre{padding: 0;}#sk-container-id-3 div.sk-toggleable {background-color: white;}#sk-container-id-3 label.sk-toggleable__label {cursor: pointer;display: block;width: 100%;margin-bottom: 0;padding: 0.3em;box-sizing: border-box;text-align: center;}#sk-container-id-3 label.sk-toggleable__label-arrow:before {content: \"▸\";float: left;margin-right: 0.25em;color: #696969;}#sk-container-id-3 label.sk-toggleable__label-arrow:hover:before {color: black;}#sk-container-id-3 div.sk-estimator:hover label.sk-toggleable__label-arrow:before {color: black;}#sk-container-id-3 div.sk-toggleable__content {max-height: 0;max-width: 0;overflow: hidden;text-align: left;background-color: #f0f8ff;}#sk-container-id-3 div.sk-toggleable__content pre {margin: 0.2em;color: black;border-radius: 0.25em;background-color: #f0f8ff;}#sk-container-id-3 input.sk-toggleable__control:checked~div.sk-toggleable__content {max-height: 200px;max-width: 100%;overflow: auto;}#sk-container-id-3 input.sk-toggleable__control:checked~label.sk-toggleable__label-arrow:before {content: \"▾\";}#sk-container-id-3 div.sk-estimator input.sk-toggleable__control:checked~label.sk-toggleable__label {background-color: #d4ebff;}#sk-container-id-3 div.sk-label input.sk-toggleable__control:checked~label.sk-toggleable__label {background-color: #d4ebff;}#sk-container-id-3 input.sk-hidden--visually {border: 0;clip: rect(1px 1px 1px 1px);clip: rect(1px, 1px, 1px, 1px);height: 1px;margin: -1px;overflow: hidden;padding: 0;position: absolute;width: 1px;}#sk-container-id-3 div.sk-estimator {font-family: monospace;background-color: #f0f8ff;border: 1px dotted black;border-radius: 0.25em;box-sizing: border-box;margin-bottom: 0.5em;}#sk-container-id-3 div.sk-estimator:hover {background-color: #d4ebff;}#sk-container-id-3 div.sk-parallel-item::after {content: \"\";width: 100%;border-bottom: 1px solid gray;flex-grow: 1;}#sk-container-id-3 div.sk-label:hover label.sk-toggleable__label {background-color: #d4ebff;}#sk-container-id-3 div.sk-serial::before {content: \"\";position: absolute;border-left: 1px solid gray;box-sizing: border-box;top: 0;bottom: 0;left: 50%;z-index: 0;}#sk-container-id-3 div.sk-serial {display: flex;flex-direction: column;align-items: center;background-color: white;padding-right: 0.2em;padding-left: 0.2em;position: relative;}#sk-container-id-3 div.sk-item {position: relative;z-index: 1;}#sk-container-id-3 div.sk-parallel {display: flex;align-items: stretch;justify-content: center;background-color: white;position: relative;}#sk-container-id-3 div.sk-item::before, #sk-container-id-3 div.sk-parallel-item::before {content: \"\";position: absolute;border-left: 1px solid gray;box-sizing: border-box;top: 0;bottom: 0;left: 50%;z-index: -1;}#sk-container-id-3 div.sk-parallel-item {display: flex;flex-direction: column;z-index: 1;position: relative;background-color: white;}#sk-container-id-3 div.sk-parallel-item:first-child::after {align-self: flex-end;width: 50%;}#sk-container-id-3 div.sk-parallel-item:last-child::after {align-self: flex-start;width: 50%;}#sk-container-id-3 div.sk-parallel-item:only-child::after {width: 0;}#sk-container-id-3 div.sk-dashed-wrapped {border: 1px dashed gray;margin: 0 0.4em 0.5em 0.4em;box-sizing: border-box;padding-bottom: 0.4em;background-color: white;}#sk-container-id-3 div.sk-label label {font-family: monospace;font-weight: bold;display: inline-block;line-height: 1.2em;}#sk-container-id-3 div.sk-label-container {text-align: center;}#sk-container-id-3 div.sk-container {/* jupyter's `normalize.less` sets `[hidden] { display: none; }` but bootstrap.min.css set `[hidden] { display: none !important; }` so we also need the `!important` here to be able to override the default hidden behavior on the sphinx rendered scikit-learn.org. See: https://github.com/scikit-learn/scikit-learn/issues/21755 */display: inline-block !important;position: relative;}#sk-container-id-3 div.sk-text-repr-fallback {display: none;}</style><div id=\"sk-container-id-3\" class=\"sk-top-container\"><div class=\"sk-text-repr-fallback\"><pre>GridSearchCV(cv=2,\n",
              "             estimator=Pipeline(steps=[(&#x27;Vectorizer&#x27;,\n",
              "                                        &lt;__main__.CountVectorizerWrapper object at 0x7b25ac2500d0&gt;),\n",
              "                                       (&#x27;net&#x27;,\n",
              "                                        &lt;class &#x27;skorch.classifier.NeuralNetClassifier&#x27;&gt;[initialized](\n",
              "  module_=ClassifierModule(\n",
              "    (dense0): Linear(in_features=100, out_features=200, bias=True)\n",
              "    (dense1): Linear(in_features=200, out_features=50, bias=True)\n",
              "    (output): Linear(in_features=50, out_features=7, bias=True)\n",
              "  ),\n",
              "))],\n",
              "                                verbose=True),\n",
              "             param_grid={&#x27;net__lr&#x27;: [0.1, 0.01, 0.2],\n",
              "                         &#x27;net__max_epochs&#x27;: [10, 20],\n",
              "                         &#x27;net__predict_nonlinearity&#x27;: [&lt;function relu at 0x7b265dbaca60&gt;,\n",
              "                                                       &lt;function tanh at 0x7b265dbad480&gt;,\n",
              "                                                       &lt;function sigmoid at 0x7b265dbad510&gt;]},\n",
              "             refit=False, scoring=&#x27;accuracy&#x27;)</pre><b>In a Jupyter environment, please rerun this cell to show the HTML representation or trust the notebook. <br />On GitHub, the HTML representation is unable to render, please try loading this page with nbviewer.org.</b></div><div class=\"sk-container\" hidden><div class=\"sk-item sk-dashed-wrapped\"><div class=\"sk-label-container\"><div class=\"sk-label sk-toggleable\"><input class=\"sk-toggleable__control sk-hidden--visually\" id=\"sk-estimator-id-8\" type=\"checkbox\" ><label for=\"sk-estimator-id-8\" class=\"sk-toggleable__label sk-toggleable__label-arrow\">GridSearchCV</label><div class=\"sk-toggleable__content\"><pre>GridSearchCV(cv=2,\n",
              "             estimator=Pipeline(steps=[(&#x27;Vectorizer&#x27;,\n",
              "                                        &lt;__main__.CountVectorizerWrapper object at 0x7b25ac2500d0&gt;),\n",
              "                                       (&#x27;net&#x27;,\n",
              "                                        &lt;class &#x27;skorch.classifier.NeuralNetClassifier&#x27;&gt;[initialized](\n",
              "  module_=ClassifierModule(\n",
              "    (dense0): Linear(in_features=100, out_features=200, bias=True)\n",
              "    (dense1): Linear(in_features=200, out_features=50, bias=True)\n",
              "    (output): Linear(in_features=50, out_features=7, bias=True)\n",
              "  ),\n",
              "))],\n",
              "                                verbose=True),\n",
              "             param_grid={&#x27;net__lr&#x27;: [0.1, 0.01, 0.2],\n",
              "                         &#x27;net__max_epochs&#x27;: [10, 20],\n",
              "                         &#x27;net__predict_nonlinearity&#x27;: [&lt;function relu at 0x7b265dbaca60&gt;,\n",
              "                                                       &lt;function tanh at 0x7b265dbad480&gt;,\n",
              "                                                       &lt;function sigmoid at 0x7b265dbad510&gt;]},\n",
              "             refit=False, scoring=&#x27;accuracy&#x27;)</pre></div></div></div><div class=\"sk-parallel\"><div class=\"sk-parallel-item\"><div class=\"sk-item\"><div class=\"sk-label-container\"><div class=\"sk-label sk-toggleable\"><input class=\"sk-toggleable__control sk-hidden--visually\" id=\"sk-estimator-id-9\" type=\"checkbox\" ><label for=\"sk-estimator-id-9\" class=\"sk-toggleable__label sk-toggleable__label-arrow\">estimator: Pipeline</label><div class=\"sk-toggleable__content\"><pre>Pipeline(steps=[(&#x27;Vectorizer&#x27;,\n",
              "                 &lt;__main__.CountVectorizerWrapper object at 0x7b25ac2500d0&gt;),\n",
              "                (&#x27;net&#x27;,\n",
              "                 &lt;class &#x27;skorch.classifier.NeuralNetClassifier&#x27;&gt;[initialized](\n",
              "  module_=ClassifierModule(\n",
              "    (dense0): Linear(in_features=100, out_features=200, bias=True)\n",
              "    (dense1): Linear(in_features=200, out_features=50, bias=True)\n",
              "    (output): Linear(in_features=50, out_features=7, bias=True)\n",
              "  ),\n",
              "))],\n",
              "         verbose=True)</pre></div></div></div><div class=\"sk-serial\"><div class=\"sk-item\"><div class=\"sk-serial\"><div class=\"sk-item\"><div class=\"sk-estimator sk-toggleable\"><input class=\"sk-toggleable__control sk-hidden--visually\" id=\"sk-estimator-id-10\" type=\"checkbox\" ><label for=\"sk-estimator-id-10\" class=\"sk-toggleable__label sk-toggleable__label-arrow\">CountVectorizerWrapper</label><div class=\"sk-toggleable__content\"><pre>&lt;__main__.CountVectorizerWrapper object at 0x7b25ac2500d0&gt;</pre></div></div></div><div class=\"sk-item\"><div class=\"sk-estimator sk-toggleable\"><input class=\"sk-toggleable__control sk-hidden--visually\" id=\"sk-estimator-id-11\" type=\"checkbox\" ><label for=\"sk-estimator-id-11\" class=\"sk-toggleable__label sk-toggleable__label-arrow\">NeuralNetClassifier</label><div class=\"sk-toggleable__content\"><pre>&lt;class &#x27;skorch.classifier.NeuralNetClassifier&#x27;&gt;[initialized](\n",
              "  module_=ClassifierModule(\n",
              "    (dense0): Linear(in_features=100, out_features=200, bias=True)\n",
              "    (dense1): Linear(in_features=200, out_features=50, bias=True)\n",
              "    (output): Linear(in_features=50, out_features=7, bias=True)\n",
              "  ),\n",
              ")</pre></div></div></div></div></div></div></div></div></div></div></div></div>"
            ]
          },
          "metadata": {},
          "execution_count": 81
        }
      ]
    },
    {
      "cell_type": "code",
      "source": [
        "print(grid_net.best_score_, grid_net.best_params_)"
      ],
      "metadata": {
        "colab": {
          "base_uri": "https://localhost:8080/"
        },
        "id": "qnk2g3LdooQp",
        "outputId": "758af38c-f41f-4eea-e95c-da5ad3ed741e"
      },
      "execution_count": 82,
      "outputs": [
        {
          "output_type": "stream",
          "name": "stdout",
          "text": [
            "0.8628571428571428 {'net__lr': 0.1, 'net__max_epochs': 20, 'net__predict_nonlinearity': <function relu at 0x7b265dbaca60>}\n"
          ]
        }
      ]
    }
  ],
  "metadata": {
    "kernelspec": {
      "display_name": "Python 3",
      "name": "python3"
    },
    "language_info": {
      "codemirror_mode": {
        "name": "ipython",
        "version": 3
      },
      "file_extension": ".py",
      "mimetype": "text/x-python",
      "name": "python",
      "nbconvert_exporter": "python",
      "pygments_lexer": "ipython3",
      "version": "3.7.13 (default, Mar 28 2022, 08:03:21) [MSC v.1916 64 bit (AMD64)]"
    },
    "vscode": {
      "interpreter": {
        "hash": "bd97b8bffa4d3737e84826bc3d37be3046061822757ce35137ab82ad4c5a2016"
      }
    },
    "colab": {
      "provenance": []
    }
  },
  "nbformat": 4,
  "nbformat_minor": 0
}